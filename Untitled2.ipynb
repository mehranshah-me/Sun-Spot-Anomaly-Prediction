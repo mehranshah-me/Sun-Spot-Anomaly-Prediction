{
  "nbformat": 4,
  "nbformat_minor": 0,
  "metadata": {
    "colab": {
      "provenance": []
    },
    "kernelspec": {
      "name": "python3",
      "display_name": "Python 3"
    },
    "language_info": {
      "name": "python"
    }
  },
  "cells": [
    {
      "cell_type": "code",
      "execution_count": 1,
      "metadata": {
        "id": "QhB0jeb_Q0f9"
      },
      "outputs": [],
      "source": [
        "import csv\n",
        "import pickle\n",
        "import numpy as np\n",
        "import tensorflow as tf\n",
        "import matplotlib.pyplot as plt\n",
        "from dataclasses import dataclass\n",
        "from absl import logging\n",
        "logging.set_verbosity(logging.ERROR)\n"
      ]
    },
    {
      "cell_type": "markdown",
      "source": [],
      "metadata": {
        "id": "WRujsFysuUno"
      }
    },
    {
      "cell_type": "markdown",
      "source": [
        "# New Section"
      ],
      "metadata": {
        "id": "8eUPREslRBGL"
      }
    },
    {
      "cell_type": "markdown",
      "source": [],
      "metadata": {
        "id": "ECdZCknuuejF"
      }
    },
    {
      "cell_type": "code",
      "source": [
        "import pandas as pd\n",
        "\n",
        "# Read the CSV file into a DataFrame\n",
        "input_file = 'sunspot_data.csv'  # replace with your input file name\n",
        "df = pd.read_csv(input_file)\n",
        "\n",
        "# Convert 'Year', 'Month', and 'Day' to 'Date' in YYYY-MM-DD format\n",
        "df['Date'] = pd.to_datetime(df[['Year', 'Month', 'Day']])\n",
        "\n",
        "# Select and rename the required columns\n",
        "new_df = df[['Date', 'Number of Sunspots']].rename(columns={'Number of Sunspots': 'Temp'})\n",
        "\n",
        "# Save the new DataFrame to a CSV file\n",
        "TEMPERATURES_CSV = 'sunspotedit.csv'  # replace with your desired output file name\n",
        "new_df.to_csv(TEMPERATURES_CSV, index=False)\n",
        "\n",
        "\n"
      ],
      "metadata": {
        "id": "_fpZITEVEgUk"
      },
      "execution_count": 2,
      "outputs": []
    },
    {
      "cell_type": "code",
      "source": [
        "with open(TEMPERATURES_CSV, 'r') as csvfile:\n",
        "    print(f\"Header looks like this:\\n\\n{csvfile.readline()}\")\n",
        "    print(f\"First data point looks like this:\\n\\n{csvfile.readline()}\")\n",
        "    print(f\"Second data point looks like this:\\n\\n{csvfile.readline()}\")"
      ],
      "metadata": {
        "id": "UmSnKa2FU3fQ",
        "colab": {
          "base_uri": "https://localhost:8080/"
        },
        "outputId": "f56f6da6-000d-4816-e6dd-dd8687b90a4a"
      },
      "execution_count": 3,
      "outputs": [
        {
          "output_type": "stream",
          "name": "stdout",
          "text": [
            "Header looks like this:\n",
            "\n",
            "Date,Temp\n",
            "\n",
            "First data point looks like this:\n",
            "\n",
            "1818-01-01,-1\n",
            "\n",
            "Second data point looks like this:\n",
            "\n",
            "1818-01-02,-1\n",
            "\n"
          ]
        }
      ]
    },
    {
      "cell_type": "code",
      "source": [
        "def plot_series(time, series, format=\"-\", start=0, end=None):\n",
        "    plt.plot(time[start:end], series[start:end], format)\n",
        "    plt.xlabel(\"Time\")\n",
        "    plt.ylabel(\"Value\")\n",
        "    plt.grid(True)"
      ],
      "metadata": {
        "id": "TWDoE6nBu173"
      },
      "execution_count": 5,
      "outputs": []
    },
    {
      "cell_type": "code",
      "source": [
        "def parse_data_from_file(filename):\n",
        "\n",
        "    times = []\n",
        "    temperatures = []\n",
        "\n",
        "    with open(filename) as csvfile:\n",
        "\n",
        "        reader = csv.reader(csvfile, delimiter=',')\n",
        "        next(reader)\n",
        "        for row in reader:\n",
        "            temperatures.append(float(row[1]))\n",
        "            times.append(row[0])\n",
        "\n",
        "    return times, temperatures"
      ],
      "metadata": {
        "id": "vpiEIg05vg2i"
      },
      "execution_count": 6,
      "outputs": []
    },
    {
      "cell_type": "code",
      "source": [
        "@dataclass\n",
        "class G:\n",
        "\n",
        "    times, temperatures = parse_data_from_file(TEMPERATURES_CSV)\n",
        "    time_series = np.array(parse_data_from_file(TEMPERATURES_CSV))\n",
        "    TIME = np.array(times)\n",
        "    SERIES = np.array(temperatures)\n",
        "    SPLIT_TIME = 2500\n",
        "    WINDOW_SIZE = 64\n",
        "    BATCH_SIZE = 32\n",
        "    SHUFFLE_BUFFER_SIZE = 1000\n",
        ""
      ],
      "metadata": {
        "id": "j-pApJn5IlqO"
      },
      "execution_count": 7,
      "outputs": []
    },
    {
      "cell_type": "code",
      "source": [
        "\n",
        "def train_val_split(time, series, time_step=G.SPLIT_TIME):\n",
        "\n",
        "    time_train = time[:time_step]\n",
        "    series_train = series[:time_step]\n",
        "    time_valid = time[time_step:]\n",
        "    series_valid = series[time_step:]\n",
        "\n",
        "    return time_train, series_train, time_valid, series_valid"
      ],
      "metadata": {
        "id": "d9WP_E63vh1h"
      },
      "execution_count": 8,
      "outputs": []
    },
    {
      "cell_type": "code",
      "source": [
        "\n",
        "def windowed_dataset(series, window_size=G.WINDOW_SIZE, batch_size=G.BATCH_SIZE, shuffle_buffer=G.SHUFFLE_BUFFER_SIZE):\n",
        "    ds = tf.data.Dataset.from_tensor_slices(series)\n",
        "    ds = ds.window(window_size + 1, shift=1, drop_remainder=True)\n",
        "    ds = ds.flat_map(lambda w: w.batch(window_size + 1))\n",
        "    ds = ds.shuffle(shuffle_buffer)\n",
        "    ds = ds.map(lambda w: (w[:-1], w[-1]))\n",
        "    ds = ds.batch(batch_size).prefetch(1)\n",
        "    return ds"
      ],
      "metadata": {
        "id": "8WqQStJHHTEf"
      },
      "execution_count": 9,
      "outputs": []
    },
    {
      "cell_type": "code",
      "source": [
        "def model_forecast(model, series, window_size):\n",
        "    ds = tf.data.Dataset.from_tensor_slices(series)\n",
        "    ds = ds.window(window_size, shift=1, drop_remainder=True)\n",
        "    ds = ds.flat_map(lambda w: w.batch(window_size))\n",
        "    ds = ds.batch(32).prefetch(1)\n",
        "    forecast = model.predict(ds)\n",
        "    return forecast"
      ],
      "metadata": {
        "id": "_GSAxRo5HSyi"
      },
      "execution_count": 10,
      "outputs": []
    },
    {
      "cell_type": "code",
      "source": [
        "def compute_metrics(true_series, forecast):\n",
        "\n",
        "    mse = tf.keras.metrics.mean_squared_error(true_series, forecast).numpy()\n",
        "    mae = tf.keras.metrics.mean_absolute_error(true_series, forecast).numpy()\n",
        "\n",
        "    return mse, mae"
      ],
      "metadata": {
        "id": "MayDphfeHkz-"
      },
      "execution_count": 11,
      "outputs": []
    },
    {
      "cell_type": "code",
      "source": [
        "subset_size = 1000  # Adjust this number to plot more or fewer points\n",
        "plt.figure(figsize=(10, 6))\n",
        "plot_series(G.TIME, G.SERIES, start=0, end=subset_size)\n",
        "plt.show()"
      ],
      "metadata": {
        "colab": {
          "base_uri": "https://localhost:8080/",
          "height": 542
        },
        "id": "7sTYbm53HoR2",
        "outputId": "e55ecf4a-60d9-45e3-c867-2d76e8d980db"
      },
      "execution_count": 12,
      "outputs": [
        {
          "output_type": "display_data",
          "data": {
            "text/plain": [
              "<Figure size 1000x600 with 1 Axes>"
            ],
            "image/png": "[encoded data removed]"
          },
          "metadata": {}
        }
      ]
    },
    {
      "cell_type": "code",
      "source": [
        "time_train, series_train, time_valid, series_valid = train_val_split(G.TIME, G.SERIES)\n",
        "\n",
        "# Apply the transformation to the training set\n",
        "train_set = windowed_dataset(series_train, window_size=G.WINDOW_SIZE, batch_size=G.BATCH_SIZE, shuffle_buffer=G.SHUFFLE_BUFFER_SIZE)\n",
        "dataset = windowed_dataset(series_train)\n"
      ],
      "metadata": {
        "id": "DA-_abLsK0gw"
      },
      "execution_count": 13,
      "outputs": []
    },
    {
      "cell_type": "code",
      "source": [
        "model_tune = tf.keras.models.Sequential([\n",
        "    tf.keras.layers.Dense(10, input_shape=[G.WINDOW_SIZE], activation=\"relu\"),\n",
        "    tf.keras.layers.Dense(10, activation=\"relu\"),\n",
        "    tf.keras.layers.Dense(1)\n",
        "])"
      ],
      "metadata": {
        "id": "6ORfBrQ_K8cx"
      },
      "execution_count": 14,
      "outputs": []
    },
    {
      "cell_type": "code",
      "source": [
        "# Set the learning rate scheduler\n",
        "lr_schedule = tf.keras.callbacks.LearningRateScheduler(\n",
        "    lambda epoch: 1e-8 * 10**(epoch / 20))\n",
        "\n",
        "optimizer = tf.keras.optimizers.SGD(momentum=0.9)\n",
        "\n",
        "# Set the training parameters\n",
        "model_tune.compile(loss=\"mse\", optimizer=optimizer)\n"
      ],
      "metadata": {
        "id": "Nti2pr4QLDdd"
      },
      "execution_count": 15,
      "outputs": []
    },
    {
      "cell_type": "code",
      "source": [
        "history = model_tune.fit(dataset, epochs=100, callbacks=[lr_schedule])\n"
      ],
      "metadata": {
        "colab": {
          "base_uri": "https://localhost:8080/"
        },
        "id": "C9pFCaCrLFRH",
        "outputId": "234b0796-1743-4e42-9af2-b8f541e07d2b"
      },
      "execution_count": 16,
      "outputs": [
        {
          "output_type": "stream",
          "name": "stdout",
          "text": [
            "Epoch 1/100\n",
            "77/77 [==============================] - 2s 14ms/step - loss: 1626.7539 - lr: 1.0000e-08\n",
            "Epoch 2/100\n",
            "77/77 [==============================] - 1s 5ms/step - loss: 1392.8876 - lr: 1.1220e-08\n",
            "Epoch 3/100\n",
            "77/77 [==============================] - 1s 6ms/step - loss: 1220.3291 - lr: 1.2589e-08\n",
            "Epoch 4/100\n",
            "77/77 [==============================] - 1s 6ms/step - loss: 1094.7661 - lr: 1.4125e-08\n",
            "Epoch 5/100\n",
            "77/77 [==============================] - 1s 6ms/step - loss: 1000.8784 - lr: 1.5849e-08\n",
            "Epoch 6/100\n",
            "77/77 [==============================] - 1s 6ms/step - loss: 929.0196 - lr: 1.7783e-08\n",
            "Epoch 7/100\n",
            "77/77 [==============================] - 1s 6ms/step - loss: 873.1631 - lr: 1.9953e-08\n",
            "Epoch 8/100\n",
            "77/77 [==============================] - 1s 6ms/step - loss: 826.9006 - lr: 2.2387e-08\n",
            "Epoch 9/100\n",
            "77/77 [==============================] - 1s 8ms/step - loss: 786.9422 - lr: 2.5119e-08\n",
            "Epoch 10/100\n",
            "77/77 [==============================] - 1s 13ms/step - loss: 752.6078 - lr: 2.8184e-08\n",
            "Epoch 11/100\n",
            "77/77 [==============================] - 1s 13ms/step - loss: 721.5903 - lr: 3.1623e-08\n",
            "Epoch 12/100\n",
            "77/77 [==============================] - 1s 5ms/step - loss: 692.9053 - lr: 3.5481e-08\n",
            "Epoch 13/100\n",
            "77/77 [==============================] - 1s 5ms/step - loss: 668.0735 - lr: 3.9811e-08\n",
            "Epoch 14/100\n",
            "77/77 [==============================] - 1s 6ms/step - loss: 646.1738 - lr: 4.4668e-08\n",
            "Epoch 15/100\n",
            "77/77 [==============================] - 1s 6ms/step - loss: 626.8370 - lr: 5.0119e-08\n",
            "Epoch 16/100\n",
            "77/77 [==============================] - 1s 6ms/step - loss: 612.2645 - lr: 5.6234e-08\n",
            "Epoch 17/100\n",
            "77/77 [==============================] - 1s 5ms/step - loss: 600.6572 - lr: 6.3096e-08\n",
            "Epoch 18/100\n",
            "77/77 [==============================] - 1s 6ms/step - loss: 590.8404 - lr: 7.0795e-08\n",
            "Epoch 19/100\n",
            "77/77 [==============================] - 1s 5ms/step - loss: 581.3681 - lr: 7.9433e-08\n",
            "Epoch 20/100\n",
            "77/77 [==============================] - 1s 6ms/step - loss: 573.7950 - lr: 8.9125e-08\n",
            "Epoch 21/100\n",
            "77/77 [==============================] - 1s 5ms/step - loss: 566.2698 - lr: 1.0000e-07\n",
            "Epoch 22/100\n",
            "77/77 [==============================] - 1s 11ms/step - loss: 559.5804 - lr: 1.1220e-07\n",
            "Epoch 23/100\n",
            "77/77 [==============================] - 1s 11ms/step - loss: 553.1733 - lr: 1.2589e-07\n",
            "Epoch 24/100\n",
            "77/77 [==============================] - 1s 12ms/step - loss: 546.5643 - lr: 1.4125e-07\n",
            "Epoch 25/100\n",
            "77/77 [==============================] - 1s 5ms/step - loss: 540.1790 - lr: 1.5849e-07\n",
            "Epoch 26/100\n",
            "77/77 [==============================] - 1s 6ms/step - loss: 534.2740 - lr: 1.7783e-07\n",
            "Epoch 27/100\n",
            "77/77 [==============================] - 1s 5ms/step - loss: 528.0042 - lr: 1.9953e-07\n",
            "Epoch 28/100\n",
            "77/77 [==============================] - 1s 6ms/step - loss: 521.4660 - lr: 2.2387e-07\n",
            "Epoch 29/100\n",
            "77/77 [==============================] - 1s 6ms/step - loss: 515.6497 - lr: 2.5119e-07\n",
            "Epoch 30/100\n",
            "77/77 [==============================] - 1s 6ms/step - loss: 509.1615 - lr: 2.8184e-07\n",
            "Epoch 31/100\n",
            "77/77 [==============================] - 1s 6ms/step - loss: 503.2255 - lr: 3.1623e-07\n",
            "Epoch 32/100\n",
            "77/77 [==============================] - 1s 6ms/step - loss: 495.5718 - lr: 3.5481e-07\n",
            "Epoch 33/100\n",
            "77/77 [==============================] - 1s 5ms/step - loss: 489.5290 - lr: 3.9811e-07\n",
            "Epoch 34/100\n",
            "77/77 [==============================] - 1s 6ms/step - loss: 480.7877 - lr: 4.4668e-07\n",
            "Epoch 35/100\n",
            "77/77 [==============================] - 1s 7ms/step - loss: 473.0834 - lr: 5.0119e-07\n",
            "Epoch 36/100\n",
            "77/77 [==============================] - 1s 12ms/step - loss: 463.7806 - lr: 5.6234e-07\n",
            "Epoch 37/100\n",
            "77/77 [==============================] - 1s 13ms/step - loss: 455.0350 - lr: 6.3096e-07\n",
            "Epoch 38/100\n",
            "77/77 [==============================] - 1s 6ms/step - loss: 446.6487 - lr: 7.0795e-07\n",
            "Epoch 39/100\n",
            "77/77 [==============================] - 1s 6ms/step - loss: 437.6594 - lr: 7.9433e-07\n",
            "Epoch 40/100\n",
            "77/77 [==============================] - 1s 6ms/step - loss: 429.0164 - lr: 8.9125e-07\n",
            "Epoch 41/100\n",
            "77/77 [==============================] - 1s 5ms/step - loss: 423.2350 - lr: 1.0000e-06\n",
            "Epoch 42/100\n",
            "77/77 [==============================] - 1s 6ms/step - loss: 415.2888 - lr: 1.1220e-06\n",
            "Epoch 43/100\n",
            "77/77 [==============================] - 1s 6ms/step - loss: 414.3753 - lr: 1.2589e-06\n",
            "Epoch 44/100\n",
            "77/77 [==============================] - 1s 6ms/step - loss: 405.1938 - lr: 1.4125e-06\n",
            "Epoch 45/100\n",
            "77/77 [==============================] - 1s 6ms/step - loss: 397.3640 - lr: 1.5849e-06\n",
            "Epoch 46/100\n",
            "77/77 [==============================] - 1s 6ms/step - loss: 393.7791 - lr: 1.7783e-06\n",
            "Epoch 47/100\n",
            "77/77 [==============================] - 1s 5ms/step - loss: 393.7340 - lr: 1.9953e-06\n",
            "Epoch 48/100\n",
            "77/77 [==============================] - 1s 9ms/step - loss: 385.2823 - lr: 2.2387e-06\n",
            "Epoch 49/100\n",
            "77/77 [==============================] - 1s 12ms/step - loss: 383.4627 - lr: 2.5119e-06\n",
            "Epoch 50/100\n",
            "77/77 [==============================] - 1s 12ms/step - loss: 382.9786 - lr: 2.8184e-06\n",
            "Epoch 51/100\n",
            "77/77 [==============================] - 1s 6ms/step - loss: 383.1776 - lr: 3.1623e-06\n",
            "Epoch 52/100\n",
            "77/77 [==============================] - 1s 5ms/step - loss: 370.7824 - lr: 3.5481e-06\n",
            "Epoch 53/100\n",
            "77/77 [==============================] - 1s 6ms/step - loss: 369.2304 - lr: 3.9811e-06\n",
            "Epoch 54/100\n",
            "77/77 [==============================] - 1s 5ms/step - loss: 375.0910 - lr: 4.4668e-06\n",
            "Epoch 55/100\n",
            "77/77 [==============================] - 1s 6ms/step - loss: 372.3189 - lr: 5.0119e-06\n",
            "Epoch 56/100\n",
            "77/77 [==============================] - 1s 5ms/step - loss: 360.9612 - lr: 5.6234e-06\n",
            "Epoch 57/100\n",
            "77/77 [==============================] - 1s 6ms/step - loss: 356.0370 - lr: 6.3096e-06\n",
            "Epoch 58/100\n",
            "77/77 [==============================] - 1s 6ms/step - loss: 367.0122 - lr: 7.0795e-06\n",
            "Epoch 59/100\n",
            "77/77 [==============================] - 1s 6ms/step - loss: 355.1009 - lr: 7.9433e-06\n",
            "Epoch 60/100\n",
            "77/77 [==============================] - 1s 5ms/step - loss: 353.5082 - lr: 8.9125e-06\n",
            "Epoch 61/100\n",
            "77/77 [==============================] - 1s 6ms/step - loss: 351.4491 - lr: 1.0000e-05\n",
            "Epoch 62/100\n",
            "77/77 [==============================] - 1s 12ms/step - loss: 352.3405 - lr: 1.1220e-05\n",
            "Epoch 63/100\n",
            "77/77 [==============================] - 1s 12ms/step - loss: 367.6052 - lr: 1.2589e-05\n",
            "Epoch 64/100\n",
            "77/77 [==============================] - 1s 8ms/step - loss: 341.5900 - lr: 1.4125e-05\n",
            "Epoch 65/100\n",
            "77/77 [==============================] - 1s 6ms/step - loss: 352.9194 - lr: 1.5849e-05\n",
            "Epoch 66/100\n",
            "77/77 [==============================] - 1s 6ms/step - loss: 361.1554 - lr: 1.7783e-05\n",
            "Epoch 67/100\n",
            "77/77 [==============================] - 1s 6ms/step - loss: 351.7011 - lr: 1.9953e-05\n",
            "Epoch 68/100\n",
            "77/77 [==============================] - 1s 6ms/step - loss: 364.0251 - lr: 2.2387e-05\n",
            "Epoch 69/100\n",
            "77/77 [==============================] - 1s 6ms/step - loss: 371.2780 - lr: 2.5119e-05\n",
            "Epoch 70/100\n",
            "77/77 [==============================] - 1s 6ms/step - loss: 355.6704 - lr: 2.8184e-05\n",
            "Epoch 71/100\n",
            "77/77 [==============================] - 1s 5ms/step - loss: 433.1279 - lr: 3.1623e-05\n",
            "Epoch 72/100\n",
            "77/77 [==============================] - 1s 5ms/step - loss: 467.1010 - lr: 3.5481e-05\n",
            "Epoch 73/100\n",
            "77/77 [==============================] - 1s 5ms/step - loss: 519.3430 - lr: 3.9811e-05\n",
            "Epoch 74/100\n",
            "77/77 [==============================] - 1s 7ms/step - loss: 620.5111 - lr: 4.4668e-05\n",
            "Epoch 75/100\n",
            "77/77 [==============================] - 1s 12ms/step - loss: 708.2856 - lr: 5.0119e-05\n",
            "Epoch 76/100\n",
            "77/77 [==============================] - 2s 21ms/step - loss: 749.0219 - lr: 5.6234e-05\n",
            "Epoch 77/100\n",
            "77/77 [==============================] - 1s 7ms/step - loss: 710.0317 - lr: 6.3096e-05\n",
            "Epoch 78/100\n",
            "77/77 [==============================] - 1s 5ms/step - loss: 719.0627 - lr: 7.0795e-05\n",
            "Epoch 79/100\n",
            "77/77 [==============================] - 1s 6ms/step - loss: 705.9534 - lr: 7.9433e-05\n",
            "Epoch 80/100\n",
            "77/77 [==============================] - 1s 6ms/step - loss: 689.3304 - lr: 8.9125e-05\n",
            "Epoch 81/100\n",
            "77/77 [==============================] - 1s 5ms/step - loss: 704.5043 - lr: 1.0000e-04\n",
            "Epoch 82/100\n",
            "77/77 [==============================] - 1s 5ms/step - loss: 673.0053 - lr: 1.1220e-04\n",
            "Epoch 83/100\n",
            "77/77 [==============================] - 1s 6ms/step - loss: 624.2084 - lr: 1.2589e-04\n",
            "Epoch 84/100\n",
            "77/77 [==============================] - 1s 5ms/step - loss: 628.3523 - lr: 1.4125e-04\n",
            "Epoch 85/100\n",
            "77/77 [==============================] - 1s 6ms/step - loss: 669.5572 - lr: 1.5849e-04\n",
            "Epoch 86/100\n",
            "77/77 [==============================] - 1s 5ms/step - loss: 624.2267 - lr: 1.7783e-04\n",
            "Epoch 87/100\n",
            "77/77 [==============================] - 1s 5ms/step - loss: 613.9695 - lr: 1.9953e-04\n",
            "Epoch 88/100\n",
            "77/77 [==============================] - 1s 5ms/step - loss: 609.1361 - lr: 2.2387e-04\n",
            "Epoch 89/100\n",
            "77/77 [==============================] - 1s 10ms/step - loss: 597.6617 - lr: 2.5119e-04\n",
            "Epoch 90/100\n",
            "77/77 [==============================] - 1s 12ms/step - loss: 606.5728 - lr: 2.8184e-04\n",
            "Epoch 91/100\n",
            "77/77 [==============================] - 1s 13ms/step - loss: 674.4145 - lr: 3.1623e-04\n",
            "Epoch 92/100\n",
            "77/77 [==============================] - 1s 5ms/step - loss: 658.2960 - lr: 3.5481e-04\n",
            "Epoch 93/100\n",
            "77/77 [==============================] - 1s 5ms/step - loss: 659.4625 - lr: 3.9811e-04\n",
            "Epoch 94/100\n",
            "77/77 [==============================] - 1s 6ms/step - loss: 657.8098 - lr: 4.4668e-04\n",
            "Epoch 95/100\n",
            "77/77 [==============================] - 1s 6ms/step - loss: 656.0571 - lr: 5.0119e-04\n",
            "Epoch 96/100\n",
            "77/77 [==============================] - 1s 5ms/step - loss: 656.6035 - lr: 5.6234e-04\n",
            "Epoch 97/100\n",
            "77/77 [==============================] - 1s 6ms/step - loss: 654.7726 - lr: 6.3096e-04\n",
            "Epoch 98/100\n",
            "77/77 [==============================] - 1s 5ms/step - loss: 655.6156 - lr: 7.0795e-04\n",
            "Epoch 99/100\n",
            "77/77 [==============================] - 1s 6ms/step - loss: 655.6367 - lr: 7.9433e-04\n",
            "Epoch 100/100\n",
            "77/77 [==============================] - 1s 5ms/step - loss: 656.7294 - lr: 8.9125e-04\n"
          ]
        }
      ]
    },
    {
      "cell_type": "code",
      "source": [
        "lrs = 1e-8 * (10 ** (np.arange(100) / 20))\n",
        "\n",
        "# Set the figure size\n",
        "plt.figure(figsize=(10, 6))\n",
        "\n",
        "# Set the grid\n",
        "plt.grid(True)\n",
        "\n",
        "# Plot the loss in log scale\n",
        "plt.semilogx(lrs, history.history[\"loss\"])\n",
        "\n",
        "# Increase the tickmarks size\n",
        "plt.tick_params('both', length=10, width=1, which='both')\n",
        "\n",
        "# Set the plot boundaries\n",
        "plt.axis([1e-8, 1e-3, 0, 300])"
      ],
      "metadata": {
        "colab": {
          "base_uri": "https://localhost:8080/",
          "height": 559
        },
        "id": "9mzjfgmCLvuz",
        "outputId": "05018097-63cf-42cf-9d1e-24912e1facbc"
      },
      "execution_count": 17,
      "outputs": [
        {
          "output_type": "execute_result",
          "data": {
            "text/plain": [
              "(1e-08, 0.001, 0.0, 300.0)"
            ]
          },
          "metadata": {},
          "execution_count": 17
        },
        {
          "output_type": "display_data",
          "data": {
            "text/plain": [
              "<Figure size 1000x600 with 1 Axes>"
            ],
            "image/png": "[encoded data removed]"
          },
          "metadata": {}
        }
      ]
    },
    {
      "cell_type": "code",
      "source": [
        "model_tune = tf.keras.models.Sequential([\n",
        "  tf.keras.layers.Dense(10, activation=\"relu\", input_shape=[G.WINDOW_SIZE]),\n",
        "  tf.keras.layers.Dense(10, activation=\"relu\"),\n",
        "  tf.keras.layers.Dense(1)\n",
        "])\n"
      ],
      "metadata": {
        "id": "0926tfwpL3f8"
      },
      "execution_count": 18,
      "outputs": []
    },
    {
      "cell_type": "code",
      "source": [
        "optimizer = tf.keras.optimizers.SGD(learning_rate=1e-4, momentum=0.9)\n"
      ],
      "metadata": {
        "id": "VKgBMvmqL7G9"
      },
      "execution_count": 19,
      "outputs": []
    },
    {
      "cell_type": "code",
      "source": [
        "model_tune.compile(loss=\"mse\", optimizer=optimizer)\n",
        "\n",
        "# Train the model\n",
        "history = model_tune.fit(dataset, epochs=100)\n"
      ],
      "metadata": {
        "colab": {
          "base_uri": "https://localhost:8080/"
        },
        "id": "FMHcIqh7MAK5",
        "outputId": "14021d1b-362b-470c-e52d-8dd9e887314e"
      },
      "execution_count": 20,
      "outputs": [
        {
          "output_type": "stream",
          "name": "stdout",
          "text": [
            "Epoch 1/100\n",
            "77/77 [==============================] - 1s 8ms/step - loss: 951.0112\n",
            "Epoch 2/100\n",
            "77/77 [==============================] - 1s 12ms/step - loss: 1906.2593\n",
            "Epoch 3/100\n",
            "77/77 [==============================] - 1s 12ms/step - loss: 677.5514\n",
            "Epoch 4/100\n",
            "77/77 [==============================] - 1s 5ms/step - loss: 639.9740\n",
            "Epoch 5/100\n",
            "77/77 [==============================] - 1s 5ms/step - loss: 637.7510\n",
            "Epoch 6/100\n",
            "77/77 [==============================] - 1s 6ms/step - loss: 635.7264\n",
            "Epoch 7/100\n",
            "77/77 [==============================] - 1s 5ms/step - loss: 635.4348\n",
            "Epoch 8/100\n",
            "77/77 [==============================] - 1s 6ms/step - loss: 633.6887\n",
            "Epoch 9/100\n",
            "77/77 [==============================] - 1s 6ms/step - loss: 632.9733\n",
            "Epoch 10/100\n",
            "77/77 [==============================] - 1s 5ms/step - loss: 629.3131\n",
            "Epoch 11/100\n",
            "77/77 [==============================] - 1s 5ms/step - loss: 626.9185\n",
            "Epoch 12/100\n",
            "77/77 [==============================] - 1s 5ms/step - loss: 626.8539\n",
            "Epoch 13/100\n",
            "77/77 [==============================] - 1s 6ms/step - loss: 623.1848\n",
            "Epoch 14/100\n",
            "77/77 [==============================] - 1s 12ms/step - loss: 619.1030\n",
            "Epoch 15/100\n",
            "77/77 [==============================] - 1s 12ms/step - loss: 620.4722\n",
            "Epoch 16/100\n",
            "77/77 [==============================] - 1s 6ms/step - loss: 613.1600\n",
            "Epoch 17/100\n",
            "77/77 [==============================] - 1s 5ms/step - loss: 608.5380\n",
            "Epoch 18/100\n",
            "77/77 [==============================] - 1s 5ms/step - loss: 651.1810\n",
            "Epoch 19/100\n",
            "77/77 [==============================] - 1s 6ms/step - loss: 565.8259\n",
            "Epoch 20/100\n",
            "77/77 [==============================] - 1s 6ms/step - loss: 540.0063\n",
            "Epoch 21/100\n",
            "77/77 [==============================] - 1s 5ms/step - loss: 540.5361\n",
            "Epoch 22/100\n",
            "77/77 [==============================] - 1s 6ms/step - loss: 548.4548\n",
            "Epoch 23/100\n",
            "77/77 [==============================] - 1s 6ms/step - loss: 545.9944\n",
            "Epoch 24/100\n",
            "77/77 [==============================] - 1s 5ms/step - loss: 543.4724\n",
            "Epoch 25/100\n",
            "77/77 [==============================] - 1s 6ms/step - loss: 540.7611\n",
            "Epoch 26/100\n",
            "77/77 [==============================] - 1s 5ms/step - loss: 538.6677\n",
            "Epoch 27/100\n",
            "77/77 [==============================] - 1s 10ms/step - loss: 538.5065\n",
            "Epoch 28/100\n",
            "77/77 [==============================] - 1s 11ms/step - loss: 538.1548\n",
            "Epoch 29/100\n",
            "77/77 [==============================] - 1s 13ms/step - loss: 537.5681\n",
            "Epoch 30/100\n",
            "77/77 [==============================] - 1s 5ms/step - loss: 537.2440\n",
            "Epoch 31/100\n",
            "77/77 [==============================] - 1s 5ms/step - loss: 537.8318\n",
            "Epoch 32/100\n",
            "77/77 [==============================] - 1s 6ms/step - loss: 537.4019\n",
            "Epoch 33/100\n",
            "77/77 [==============================] - 1s 5ms/step - loss: 536.9718\n",
            "Epoch 34/100\n",
            "77/77 [==============================] - 1s 6ms/step - loss: 537.0258\n",
            "Epoch 35/100\n",
            "77/77 [==============================] - 1s 5ms/step - loss: 538.3163\n",
            "Epoch 36/100\n",
            "77/77 [==============================] - 1s 6ms/step - loss: 537.5383\n",
            "Epoch 37/100\n",
            "77/77 [==============================] - 1s 5ms/step - loss: 536.8329\n",
            "Epoch 38/100\n",
            "77/77 [==============================] - 1s 6ms/step - loss: 536.8115\n",
            "Epoch 39/100\n",
            "77/77 [==============================] - 1s 5ms/step - loss: 537.4131\n",
            "Epoch 40/100\n",
            "77/77 [==============================] - 1s 12ms/step - loss: 537.3694\n",
            "Epoch 41/100\n",
            "77/77 [==============================] - 1s 12ms/step - loss: 537.1577\n",
            "Epoch 42/100\n",
            "77/77 [==============================] - 1s 10ms/step - loss: 537.5147\n",
            "Epoch 43/100\n",
            "77/77 [==============================] - 1s 6ms/step - loss: 537.6616\n",
            "Epoch 44/100\n",
            "77/77 [==============================] - 1s 6ms/step - loss: 536.5982\n",
            "Epoch 45/100\n",
            "77/77 [==============================] - 1s 6ms/step - loss: 536.3249\n",
            "Epoch 46/100\n",
            "77/77 [==============================] - 1s 5ms/step - loss: 537.4086\n",
            "Epoch 47/100\n",
            "77/77 [==============================] - 1s 6ms/step - loss: 536.5257\n",
            "Epoch 48/100\n",
            "77/77 [==============================] - 1s 5ms/step - loss: 537.2347\n",
            "Epoch 49/100\n",
            "77/77 [==============================] - 1s 5ms/step - loss: 537.0779\n",
            "Epoch 50/100\n",
            "77/77 [==============================] - 1s 5ms/step - loss: 537.2945\n",
            "Epoch 51/100\n",
            "77/77 [==============================] - 1s 6ms/step - loss: 537.0604\n",
            "Epoch 52/100\n",
            "77/77 [==============================] - 1s 6ms/step - loss: 536.3970\n",
            "Epoch 53/100\n",
            "77/77 [==============================] - 1s 5ms/step - loss: 536.3627\n",
            "Epoch 54/100\n",
            "77/77 [==============================] - 1s 5ms/step - loss: 536.2518\n",
            "Epoch 55/100\n",
            "77/77 [==============================] - 1s 12ms/step - loss: 537.4197\n",
            "Epoch 56/100\n",
            "77/77 [==============================] - 1s 11ms/step - loss: 536.9315\n",
            "Epoch 57/100\n",
            "77/77 [==============================] - 1s 10ms/step - loss: 537.6428\n",
            "Epoch 58/100\n",
            "77/77 [==============================] - 1s 5ms/step - loss: 538.1973\n",
            "Epoch 59/100\n",
            "77/77 [==============================] - 1s 5ms/step - loss: 536.7573\n",
            "Epoch 60/100\n",
            "77/77 [==============================] - 1s 5ms/step - loss: 537.0916\n",
            "Epoch 61/100\n",
            "77/77 [==============================] - 1s 6ms/step - loss: 536.9309\n",
            "Epoch 62/100\n",
            "77/77 [==============================] - 1s 5ms/step - loss: 536.6221\n",
            "Epoch 63/100\n",
            "77/77 [==============================] - 1s 6ms/step - loss: 536.6105\n",
            "Epoch 64/100\n",
            "77/77 [==============================] - 1s 5ms/step - loss: 536.8048\n",
            "Epoch 65/100\n",
            "77/77 [==============================] - 1s 6ms/step - loss: 537.2050\n",
            "Epoch 66/100\n",
            "77/77 [==============================] - 1s 5ms/step - loss: 537.5756\n",
            "Epoch 67/100\n",
            "77/77 [==============================] - 1s 6ms/step - loss: 537.5538\n",
            "Epoch 68/100\n",
            "77/77 [==============================] - 1s 12ms/step - loss: 537.1946\n",
            "Epoch 69/100\n",
            "77/77 [==============================] - 1s 12ms/step - loss: 537.3181\n",
            "Epoch 70/100\n",
            "77/77 [==============================] - 1s 13ms/step - loss: 537.5467\n",
            "Epoch 71/100\n",
            "77/77 [==============================] - 1s 6ms/step - loss: 536.9584\n",
            "Epoch 72/100\n",
            "77/77 [==============================] - 1s 6ms/step - loss: 539.1349\n",
            "Epoch 73/100\n",
            "77/77 [==============================] - 1s 6ms/step - loss: 536.9650\n",
            "Epoch 74/100\n",
            "77/77 [==============================] - 1s 7ms/step - loss: 537.2247\n",
            "Epoch 75/100\n",
            "77/77 [==============================] - 1s 6ms/step - loss: 536.9110\n",
            "Epoch 76/100\n",
            "77/77 [==============================] - 1s 6ms/step - loss: 536.2701\n",
            "Epoch 77/100\n",
            "77/77 [==============================] - 1s 6ms/step - loss: 537.4748\n",
            "Epoch 78/100\n",
            "77/77 [==============================] - 1s 6ms/step - loss: 536.5400\n",
            "Epoch 79/100\n",
            "77/77 [==============================] - 1s 13ms/step - loss: 536.6052\n",
            "Epoch 80/100\n",
            "77/77 [==============================] - 1s 6ms/step - loss: 536.9008\n",
            "Epoch 81/100\n",
            "77/77 [==============================] - 1s 6ms/step - loss: 536.4813\n",
            "Epoch 82/100\n",
            "77/77 [==============================] - 1s 7ms/step - loss: 536.5855\n",
            "Epoch 83/100\n",
            "77/77 [==============================] - 1s 6ms/step - loss: 536.5694\n",
            "Epoch 84/100\n",
            "77/77 [==============================] - 1s 6ms/step - loss: 536.8979\n",
            "Epoch 85/100\n",
            "77/77 [==============================] - 1s 6ms/step - loss: 537.0424\n",
            "Epoch 86/100\n",
            "77/77 [==============================] - 1s 6ms/step - loss: 538.6930\n",
            "Epoch 87/100\n",
            "77/77 [==============================] - 1s 6ms/step - loss: 538.0636\n",
            "Epoch 88/100\n",
            "77/77 [==============================] - 1s 7ms/step - loss: 537.5918\n",
            "Epoch 89/100\n",
            "77/77 [==============================] - 1s 11ms/step - loss: 537.0119\n",
            "Epoch 90/100\n",
            "77/77 [==============================] - 1s 12ms/step - loss: 536.0226\n",
            "Epoch 91/100\n",
            "77/77 [==============================] - 1s 11ms/step - loss: 537.1095\n",
            "Epoch 92/100\n",
            "77/77 [==============================] - 1s 5ms/step - loss: 536.5963\n",
            "Epoch 93/100\n",
            "77/77 [==============================] - 1s 6ms/step - loss: 536.9495\n",
            "Epoch 94/100\n",
            "77/77 [==============================] - 1s 6ms/step - loss: 536.7117\n",
            "Epoch 95/100\n",
            "77/77 [==============================] - 1s 6ms/step - loss: 537.3309\n",
            "Epoch 96/100\n",
            "77/77 [==============================] - 1s 6ms/step - loss: 537.0244\n",
            "Epoch 97/100\n",
            "77/77 [==============================] - 1s 6ms/step - loss: 536.9976\n",
            "Epoch 98/100\n",
            "77/77 [==============================] - 1s 6ms/step - loss: 537.1607\n",
            "Epoch 99/100\n",
            "77/77 [==============================] - 1s 6ms/step - loss: 536.8553\n",
            "Epoch 100/100\n",
            "77/77 [==============================] - 1s 13ms/step - loss: 536.8246\n"
          ]
        }
      ]
    },
    {
      "cell_type": "code",
      "source": [
        "loss = history.history['loss']\n",
        "epochs = range(len(loss))\n",
        "plt.plot(epochs, loss, 'b', label='Training Loss')\n",
        "plt.show()"
      ],
      "metadata": {
        "colab": {
          "base_uri": "https://localhost:8080/",
          "height": 430
        },
        "id": "9LCBLJp6MfeG",
        "outputId": "b66f6034-366f-4297-c927-d8a3724c5baf"
      },
      "execution_count": 21,
      "outputs": [
        {
          "output_type": "display_data",
          "data": {
            "text/plain": [
              "<Figure size 640x480 with 1 Axes>"
            ],
            "image/png": "[encoded data removed]"
          },
          "metadata": {}
        }
      ]
    },
    {
      "cell_type": "code",
      "source": [
        "loss = history.history['loss']\n",
        "epochs = range(10, len(loss))\n",
        "plot_loss = loss[10:]\n",
        "plt.plot(epochs, plot_loss, 'b', label='Training Loss')\n",
        "plt.show()"
      ],
      "metadata": {
        "colab": {
          "base_uri": "https://localhost:8080/",
          "height": 430
        },
        "id": "0qgDiB6LMjhP",
        "outputId": "c9f0d0cd-c62c-444e-fbb5-f7047c6c2d05"
      },
      "execution_count": 22,
      "outputs": [
        {
          "output_type": "display_data",
          "data": {
            "text/plain": [
              "<Figure size 640x480 with 1 Axes>"
            ],
            "image/png": "[encoded data removed]"
          },
          "metadata": {}
        }
      ]
    },
    {
      "cell_type": "code",
      "source": [
        "rnn_forecast = model_forecast(model_tune, G.SERIES, G.WINDOW_SIZE).squeeze()\n"
      ],
      "metadata": {
        "colab": {
          "base_uri": "https://localhost:8080/"
        },
        "id": "ciEXdyO7Ne-t",
        "outputId": "77234b3f-559e-41ef-f6e8-b677787f4381"
      },
      "execution_count": 23,
      "outputs": [
        {
          "output_type": "stream",
          "name": "stdout",
          "text": [
            "2302/2302 [==============================] - 20s 9ms/step\n"
          ]
        }
      ]
    },
    {
      "cell_type": "code",
      "source": [
        "rnn_forecast = rnn_forecast[G.SPLIT_TIME - G.WINDOW_SIZE:-1]\n"
      ],
      "metadata": {
        "id": "pyxkCTqFNige"
      },
      "execution_count": 24,
      "outputs": []
    },
    {
      "cell_type": "code",
      "source": [
        "mse, mae = compute_metrics(series_valid, rnn_forecast)\n",
        "\n",
        "print(f\"mse: {mse:.2f}, mae: {mae:.2f} for forecast\")\n"
      ],
      "metadata": {
        "colab": {
          "base_uri": "https://localhost:8080/"
        },
        "id": "x-hudLSQORQM",
        "outputId": "3ffbdf70-6dac-4424-a823-c50ffe374ac1"
      },
      "execution_count": 25,
      "outputs": [
        {
          "output_type": "stream",
          "name": "stdout",
          "text": [
            "mse: 9439.93, mae: 68.07 for forecast\n"
          ]
        }
      ]
    },
    {
      "cell_type": "code",
      "source": [],
      "metadata": {
        "id": "yRevpXoxOfmq"
      },
      "execution_count": null,
      "outputs": []
    }
  ]
}