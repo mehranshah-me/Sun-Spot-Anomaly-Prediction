{
  "nbformat": 4,
  "nbformat_minor": 0,
  "metadata": {
    "colab": {
      "provenance": []
    },
    "kernelspec": {
      "name": "python3",
      "display_name": "Python 3"
    },
    "language_info": {
      "name": "python"
    }
  },
  "cells": [
    {
      "cell_type": "code",
      "execution_count": null,
      "metadata": {
        "id": "QhB0jeb_Q0f9"
      },
      "outputs": [],
      "source": [
        "import csv\n",
        "import pickle\n",
        "import numpy as np\n",
        "import tensorflow as tf\n",
        "import matplotlib.pyplot as plt\n",
        "from dataclasses import dataclass\n",
        "from absl import logging\n",
        "logging.set_verbosity(logging.ERROR)\n"
      ]
    },
    {
      "cell_type": "markdown",
      "source": [],
      "metadata": {
        "id": "WRujsFysuUno"
      }
    },
    {
      "cell_type": "markdown",
      "source": [
        "# New Section"
      ],
      "metadata": {
        "id": "8eUPREslRBGL"
      }
    },
    {
      "cell_type": "markdown",
      "source": [],
      "metadata": {
        "id": "ECdZCknuuejF"
      }
    },
    {
      "cell_type": "code",
      "source": [
        "import pandas as pd\n",
        "import numpy as np\n",
        "\n",
        "# Load data from CSV into a pandas DataFrame\n",
        "df = pd.read_csv('/content/sunspotedit.csv')\n",
        "\n",
        "# Extract numeric columns for normalization\n",
        "numeric_cols = ['Temp']\n",
        "\n",
        "# Convert 'Temp' column to numeric if needed (handle any non-numeric values gracefully)\n",
        "df['Temp'] = pd.to_numeric(df['Temp'], errors='coerce')\n",
        "\n",
        "# Define min-max normalization function\n",
        "def min_max_normalize(data):\n",
        "    min_val = np.min(data)\n",
        "    max_val = np.max(data)\n",
        "    normalized_data = (data - min_val) / (max_val - min_val)\n",
        "    return normalized_data\n",
        "\n",
        "# Normalize the numeric data\n",
        "df['Temp'] = min_max_normalize(df['Temp'])\n",
        "\n",
        "# Print normalized DataFrame\n",
        "print(df)\n",
        "\n",
        "# Optionally, save normalized data back to CSV\n",
        "df.to_csv('sunspotnorm.csv', index=False)\n",
        "TEMPERATURES_CSV='sunspotnorm.csv'"
      ],
      "metadata": {
        "id": "QI1gzLToYDZ1",
        "colab": {
          "base_uri": "https://localhost:8080/"
        },
        "outputId": "c82d6232-0afa-4975-dbe8-cbcb60b4b863"
      },
      "execution_count": 12,
      "outputs": [
        {
          "output_type": "stream",
          "name": "stdout",
          "text": [
            "             Date     Temp\n",
            "0      1818-01-01  0.00000\n",
            "1      1818-01-02  0.00000\n",
            "2      1818-01-03  0.00000\n",
            "3      1818-01-04  0.00000\n",
            "4      1818-01-05  0.00000\n",
            "...           ...      ...\n",
            "73713  2019-10-27  0.00189\n",
            "73714  2019-10-28  0.00189\n",
            "73715  2019-10-29  0.00189\n",
            "73716  2019-10-30  0.00189\n",
            "73717  2019-10-31  0.00189\n",
            "\n",
            "[73718 rows x 2 columns]\n"
          ]
        }
      ]
    },
    {
      "cell_type": "code",
      "source": [
        "with open(TEMPERATURES_CSV, 'r') as csvfile:\n",
        "    print(f\"Header looks like this:\\n\\n{csvfile.readline()}\")\n",
        "    print(f\"First data point looks like this:\\n\\n{csvfile.readline()}\")\n",
        "    print(f\"Second data point looks like this:\\n\\n{csvfile.readline()}\")"
      ],
      "metadata": {
        "id": "UmSnKa2FU3fQ",
        "colab": {
          "base_uri": "https://localhost:8080/"
        },
        "outputId": "4c2c05da-8a9f-4196-fd5d-446cb7d617db"
      },
      "execution_count": 13,
      "outputs": [
        {
          "output_type": "stream",
          "name": "stdout",
          "text": [
            "Header looks like this:\n",
            "\n",
            "Date,Temp\n",
            "\n",
            "First data point looks like this:\n",
            "\n",
            "1818-01-01,0.0\n",
            "\n",
            "Second data point looks like this:\n",
            "\n",
            "1818-01-02,0.0\n",
            "\n"
          ]
        }
      ]
    },
    {
      "cell_type": "code",
      "source": [
        "def plot_series(time, series, format=\"-\", start=0, end=None):\n",
        "    plt.plot(time[start:end], series[start:end], format)\n",
        "    plt.xlabel(\"Time\")\n",
        "    plt.ylabel(\"Value\")\n",
        "    plt.grid(True)"
      ],
      "metadata": {
        "id": "TWDoE6nBu173"
      },
      "execution_count": 14,
      "outputs": []
    },
    {
      "cell_type": "code",
      "source": [
        "def parse_data_from_file(filename):\n",
        "\n",
        "    times = []\n",
        "    temperatures = []\n",
        "\n",
        "    with open(filename) as csvfile:\n",
        "\n",
        "        reader = csv.reader(csvfile, delimiter=',')\n",
        "        next(reader)\n",
        "        for row in reader:\n",
        "            temperatures.append(float(row[1]))\n",
        "            times.append(row[0])\n",
        "\n",
        "    return times, temperatures"
      ],
      "metadata": {
        "id": "vpiEIg05vg2i"
      },
      "execution_count": 15,
      "outputs": []
    },
    {
      "cell_type": "code",
      "source": [
        "@dataclass\n",
        "class G:\n",
        "\n",
        "    times, temperatures = parse_data_from_file(TEMPERATURES_CSV)\n",
        "    time_series = np.array(parse_data_from_file(TEMPERATURES_CSV))\n",
        "    TIME = np.array(times)\n",
        "    SERIES = np.array(temperatures)\n",
        "    SPLIT_TIME = 2500\n",
        "    WINDOW_SIZE = 64\n",
        "    BATCH_SIZE = 32\n",
        "    SHUFFLE_BUFFER_SIZE = 1000\n"
      ],
      "metadata": {
        "id": "j-pApJn5IlqO"
      },
      "execution_count": 16,
      "outputs": []
    },
    {
      "cell_type": "code",
      "source": [
        "\n",
        "def train_val_split(time, series, time_step=G.SPLIT_TIME):\n",
        "\n",
        "    time_train = time[:time_step]\n",
        "    series_train = series[:time_step]\n",
        "    time_valid = time[time_step:]\n",
        "    series_valid = series[time_step:]\n",
        "\n",
        "    return time_train, series_train, time_valid, series_valid"
      ],
      "metadata": {
        "id": "d9WP_E63vh1h"
      },
      "execution_count": 17,
      "outputs": []
    },
    {
      "cell_type": "code",
      "source": [
        "\n",
        "def windowed_dataset(series, window_size=G.WINDOW_SIZE, batch_size=G.BATCH_SIZE, shuffle_buffer=G.SHUFFLE_BUFFER_SIZE):\n",
        "    ds = tf.data.Dataset.from_tensor_slices(series)\n",
        "    ds = ds.window(window_size + 1, shift=1, drop_remainder=True)\n",
        "    ds = ds.flat_map(lambda w: w.batch(window_size + 1))\n",
        "    ds = ds.shuffle(shuffle_buffer)\n",
        "    ds = ds.map(lambda w: (w[:-1], w[-1]))\n",
        "    ds = ds.batch(batch_size).prefetch(1)\n",
        "    return ds"
      ],
      "metadata": {
        "id": "8WqQStJHHTEf"
      },
      "execution_count": 18,
      "outputs": []
    },
    {
      "cell_type": "code",
      "source": [
        "def model_forecast(model, series, window_size):\n",
        "    ds = tf.data.Dataset.from_tensor_slices(series)\n",
        "    ds = ds.window(window_size, shift=1, drop_remainder=True)\n",
        "    ds = ds.flat_map(lambda w: w.batch(window_size))\n",
        "    ds = ds.batch(32).prefetch(1)\n",
        "    forecast = model.predict(ds)\n",
        "    return forecast"
      ],
      "metadata": {
        "id": "_GSAxRo5HSyi"
      },
      "execution_count": 19,
      "outputs": []
    },
    {
      "cell_type": "code",
      "source": [
        "def compute_metrics(true_series, forecast):\n",
        "\n",
        "    mse = tf.keras.metrics.mean_squared_error(true_series, forecast).numpy()\n",
        "    mae = tf.keras.metrics.mean_absolute_error(true_series, forecast).numpy()\n",
        "\n",
        "    return mse, mae"
      ],
      "metadata": {
        "id": "MayDphfeHkz-"
      },
      "execution_count": 20,
      "outputs": []
    },
    {
      "cell_type": "code",
      "source": [
        "subset_size = 1000  # Adjust this number to plot more or fewer points\n",
        "plt.figure(figsize=(10, 6))\n",
        "plot_series(G.TIME, G.SERIES, start=0, end=subset_size)\n",
        "plt.show()"
      ],
      "metadata": {
        "colab": {
          "base_uri": "https://localhost:8080/",
          "height": 544
        },
        "id": "7sTYbm53HoR2",
        "outputId": "6d0f9865-9d32-4f28-90db-941a62914bf3"
      },
      "execution_count": 21,
      "outputs": [
        {
          "output_type": "display_data",
          "data": {
            "text/plain": [
              "<Figure size 1000x600 with 1 Axes>"
            ],
            "image/png": "[encoded data removed]"
          },
          "metadata": {}
        }
      ]
    },
    {
      "cell_type": "code",
      "source": [
        "time_train, series_train, time_valid, series_valid = train_val_split(G.TIME, G.SERIES)\n",
        "\n",
        "# Apply the transformation to the training set\n",
        "train_set = windowed_dataset(series_train, window_size=G.WINDOW_SIZE, batch_size=G.BATCH_SIZE, shuffle_buffer=G.SHUFFLE_BUFFER_SIZE)\n",
        "dataset = windowed_dataset(series_train)\n"
      ],
      "metadata": {
        "id": "DA-_abLsK0gw"
      },
      "execution_count": 22,
      "outputs": []
    },
    {
      "cell_type": "code",
      "source": [
        "model_tune = tf.keras.models.Sequential([\n",
        "    tf.keras.layers.Dense(10, input_shape=[G.WINDOW_SIZE], activation=\"relu\"),\n",
        "    tf.keras.layers.Dense(10, activation=\"relu\"),\n",
        "    tf.keras.layers.Dense(1)\n",
        "])"
      ],
      "metadata": {
        "id": "6ORfBrQ_K8cx"
      },
      "execution_count": 23,
      "outputs": []
    },
    {
      "cell_type": "code",
      "source": [
        "# Set the learning rate scheduler\n",
        "lr_schedule = tf.keras.callbacks.LearningRateScheduler(\n",
        "    lambda epoch: 1e-8 * 10**(epoch / 20))\n",
        "\n",
        "optimizer = tf.keras.optimizers.SGD(momentum=0.9)\n",
        "\n",
        "# Set the training parameters\n",
        "model_tune.compile(loss=\"mse\", optimizer=optimizer)\n"
      ],
      "metadata": {
        "id": "Nti2pr4QLDdd"
      },
      "execution_count": 24,
      "outputs": []
    },
    {
      "cell_type": "code",
      "source": [
        "history = model_tune.fit(dataset, epochs=100, callbacks=[lr_schedule])\n"
      ],
      "metadata": {
        "colab": {
          "base_uri": "https://localhost:8080/"
        },
        "id": "C9pFCaCrLFRH",
        "outputId": "a7074efe-4f25-45aa-d333-53c2368db957"
      },
      "execution_count": 25,
      "outputs": [
        {
          "output_type": "stream",
          "name": "stdout",
          "text": [
            "Epoch 1/100\n",
            "77/77 [==============================] - 1s 6ms/step - loss: 0.0047 - lr: 1.0000e-08\n",
            "Epoch 2/100\n",
            "77/77 [==============================] - 1s 6ms/step - loss: 0.0047 - lr: 1.1220e-08\n",
            "Epoch 3/100\n",
            "77/77 [==============================] - 1s 6ms/step - loss: 0.0047 - lr: 1.2589e-08\n",
            "Epoch 4/100\n",
            "77/77 [==============================] - 1s 6ms/step - loss: 0.0047 - lr: 1.4125e-08\n",
            "Epoch 5/100\n",
            "77/77 [==============================] - 1s 6ms/step - loss: 0.0047 - lr: 1.5849e-08\n",
            "Epoch 6/100\n",
            "77/77 [==============================] - 1s 8ms/step - loss: 0.0047 - lr: 1.7783e-08\n",
            "Epoch 7/100\n",
            "77/77 [==============================] - 1s 6ms/step - loss: 0.0047 - lr: 1.9953e-08\n",
            "Epoch 8/100\n",
            "77/77 [==============================] - 1s 10ms/step - loss: 0.0047 - lr: 2.2387e-08\n",
            "Epoch 9/100\n",
            "77/77 [==============================] - 1s 13ms/step - loss: 0.0047 - lr: 2.5119e-08\n",
            "Epoch 10/100\n",
            "77/77 [==============================] - 1s 6ms/step - loss: 0.0047 - lr: 2.8184e-08\n",
            "Epoch 11/100\n",
            "77/77 [==============================] - 1s 6ms/step - loss: 0.0047 - lr: 3.1623e-08\n",
            "Epoch 12/100\n",
            "77/77 [==============================] - 1s 6ms/step - loss: 0.0047 - lr: 3.5481e-08\n",
            "Epoch 13/100\n",
            "77/77 [==============================] - 1s 8ms/step - loss: 0.0047 - lr: 3.9811e-08\n",
            "Epoch 14/100\n",
            "77/77 [==============================] - 1s 7ms/step - loss: 0.0047 - lr: 4.4668e-08\n",
            "Epoch 15/100\n",
            "77/77 [==============================] - 1s 7ms/step - loss: 0.0047 - lr: 5.0119e-08\n",
            "Epoch 16/100\n",
            "77/77 [==============================] - 1s 7ms/step - loss: 0.0047 - lr: 5.6234e-08\n",
            "Epoch 17/100\n",
            "77/77 [==============================] - 1s 6ms/step - loss: 0.0047 - lr: 6.3096e-08\n",
            "Epoch 18/100\n",
            "77/77 [==============================] - 1s 6ms/step - loss: 0.0047 - lr: 7.0795e-08\n",
            "Epoch 19/100\n",
            "77/77 [==============================] - 2s 23ms/step - loss: 0.0047 - lr: 7.9433e-08\n",
            "Epoch 20/100\n",
            "77/77 [==============================] - 2s 20ms/step - loss: 0.0047 - lr: 8.9125e-08\n",
            "Epoch 21/100\n",
            "77/77 [==============================] - 1s 6ms/step - loss: 0.0047 - lr: 1.0000e-07\n",
            "Epoch 22/100\n",
            "77/77 [==============================] - 1s 7ms/step - loss: 0.0047 - lr: 1.1220e-07\n",
            "Epoch 23/100\n",
            "77/77 [==============================] - 1s 6ms/step - loss: 0.0047 - lr: 1.2589e-07\n",
            "Epoch 24/100\n",
            "77/77 [==============================] - 1s 6ms/step - loss: 0.0047 - lr: 1.4125e-07\n",
            "Epoch 25/100\n",
            "77/77 [==============================] - 1s 6ms/step - loss: 0.0047 - lr: 1.5849e-07\n",
            "Epoch 26/100\n",
            "77/77 [==============================] - 1s 6ms/step - loss: 0.0047 - lr: 1.7783e-07\n",
            "Epoch 27/100\n",
            "77/77 [==============================] - 1s 6ms/step - loss: 0.0047 - lr: 1.9953e-07\n",
            "Epoch 28/100\n",
            "77/77 [==============================] - 1s 6ms/step - loss: 0.0047 - lr: 2.2387e-07\n",
            "Epoch 29/100\n",
            "77/77 [==============================] - 1s 10ms/step - loss: 0.0047 - lr: 2.5119e-07\n",
            "Epoch 30/100\n",
            "77/77 [==============================] - 1s 13ms/step - loss: 0.0047 - lr: 2.8184e-07\n",
            "Epoch 31/100\n",
            "77/77 [==============================] - 1s 7ms/step - loss: 0.0047 - lr: 3.1623e-07\n",
            "Epoch 32/100\n",
            "77/77 [==============================] - 1s 6ms/step - loss: 0.0047 - lr: 3.5481e-07\n",
            "Epoch 33/100\n",
            "77/77 [==============================] - 1s 6ms/step - loss: 0.0047 - lr: 3.9811e-07\n",
            "Epoch 34/100\n",
            "77/77 [==============================] - 1s 6ms/step - loss: 0.0047 - lr: 4.4668e-07\n",
            "Epoch 35/100\n",
            "77/77 [==============================] - 1s 6ms/step - loss: 0.0047 - lr: 5.0119e-07\n",
            "Epoch 36/100\n",
            "77/77 [==============================] - 1s 6ms/step - loss: 0.0047 - lr: 5.6234e-07\n",
            "Epoch 37/100\n",
            "77/77 [==============================] - 1s 6ms/step - loss: 0.0046 - lr: 6.3096e-07\n",
            "Epoch 38/100\n",
            "77/77 [==============================] - 1s 6ms/step - loss: 0.0046 - lr: 7.0795e-07\n",
            "Epoch 39/100\n",
            "77/77 [==============================] - 1s 14ms/step - loss: 0.0046 - lr: 7.9433e-07\n",
            "Epoch 40/100\n",
            "77/77 [==============================] - 1s 6ms/step - loss: 0.0046 - lr: 8.9125e-07\n",
            "Epoch 41/100\n",
            "77/77 [==============================] - 1s 6ms/step - loss: 0.0046 - lr: 1.0000e-06\n",
            "Epoch 42/100\n",
            "77/77 [==============================] - 1s 6ms/step - loss: 0.0046 - lr: 1.1220e-06\n",
            "Epoch 43/100\n",
            "77/77 [==============================] - 1s 6ms/step - loss: 0.0046 - lr: 1.2589e-06\n",
            "Epoch 44/100\n",
            "77/77 [==============================] - 1s 6ms/step - loss: 0.0046 - lr: 1.4125e-06\n",
            "Epoch 45/100\n",
            "77/77 [==============================] - 1s 7ms/step - loss: 0.0046 - lr: 1.5849e-06\n",
            "Epoch 46/100\n",
            "77/77 [==============================] - 1s 6ms/step - loss: 0.0046 - lr: 1.7783e-06\n",
            "Epoch 47/100\n",
            "77/77 [==============================] - 1s 11ms/step - loss: 0.0046 - lr: 1.9953e-06\n",
            "Epoch 48/100\n",
            "77/77 [==============================] - 2s 20ms/step - loss: 0.0046 - lr: 2.2387e-06\n",
            "Epoch 49/100\n",
            "77/77 [==============================] - 2s 20ms/step - loss: 0.0046 - lr: 2.5119e-06\n",
            "Epoch 50/100\n",
            "77/77 [==============================] - 2s 13ms/step - loss: 0.0045 - lr: 2.8184e-06\n",
            "Epoch 51/100\n",
            "77/77 [==============================] - 2s 19ms/step - loss: 0.0045 - lr: 3.1623e-06\n",
            "Epoch 52/100\n",
            "77/77 [==============================] - 2s 16ms/step - loss: 0.0045 - lr: 3.5481e-06\n",
            "Epoch 53/100\n",
            "77/77 [==============================] - 2s 18ms/step - loss: 0.0045 - lr: 3.9811e-06\n",
            "Epoch 54/100\n",
            "77/77 [==============================] - 1s 13ms/step - loss: 0.0045 - lr: 4.4668e-06\n",
            "Epoch 55/100\n",
            "77/77 [==============================] - 1s 14ms/step - loss: 0.0045 - lr: 5.0119e-06\n",
            "Epoch 56/100\n",
            "77/77 [==============================] - 1s 13ms/step - loss: 0.0044 - lr: 5.6234e-06\n",
            "Epoch 57/100\n",
            "77/77 [==============================] - 1s 6ms/step - loss: 0.0044 - lr: 6.3096e-06\n",
            "Epoch 58/100\n",
            "77/77 [==============================] - 1s 6ms/step - loss: 0.0044 - lr: 7.0795e-06\n",
            "Epoch 59/100\n",
            "77/77 [==============================] - 1s 6ms/step - loss: 0.0044 - lr: 7.9433e-06\n",
            "Epoch 60/100\n",
            "77/77 [==============================] - 1s 5ms/step - loss: 0.0043 - lr: 8.9125e-06\n",
            "Epoch 61/100\n",
            "77/77 [==============================] - 1s 6ms/step - loss: 0.0043 - lr: 1.0000e-05\n",
            "Epoch 62/100\n",
            "77/77 [==============================] - 1s 6ms/step - loss: 0.0042 - lr: 1.1220e-05\n",
            "Epoch 63/100\n",
            "77/77 [==============================] - 1s 6ms/step - loss: 0.0042 - lr: 1.2589e-05\n",
            "Epoch 64/100\n",
            "77/77 [==============================] - 1s 7ms/step - loss: 0.0042 - lr: 1.4125e-05\n",
            "Epoch 65/100\n",
            "77/77 [==============================] - 1s 12ms/step - loss: 0.0041 - lr: 1.5849e-05\n",
            "Epoch 66/100\n",
            "77/77 [==============================] - 1s 13ms/step - loss: 0.0041 - lr: 1.7783e-05\n",
            "Epoch 67/100\n",
            "77/77 [==============================] - 1s 6ms/step - loss: 0.0040 - lr: 1.9953e-05\n",
            "Epoch 68/100\n",
            "77/77 [==============================] - 1s 6ms/step - loss: 0.0040 - lr: 2.2387e-05\n",
            "Epoch 69/100\n",
            "77/77 [==============================] - 1s 6ms/step - loss: 0.0039 - lr: 2.5119e-05\n",
            "Epoch 70/100\n",
            "77/77 [==============================] - 1s 6ms/step - loss: 0.0039 - lr: 2.8184e-05\n",
            "Epoch 71/100\n",
            "77/77 [==============================] - 1s 6ms/step - loss: 0.0038 - lr: 3.1623e-05\n",
            "Epoch 72/100\n",
            "77/77 [==============================] - 1s 6ms/step - loss: 0.0037 - lr: 3.5481e-05\n",
            "Epoch 73/100\n",
            "77/77 [==============================] - 1s 6ms/step - loss: 0.0037 - lr: 3.9811e-05\n",
            "Epoch 74/100\n",
            "77/77 [==============================] - 1s 6ms/step - loss: 0.0036 - lr: 4.4668e-05\n",
            "Epoch 75/100\n",
            "77/77 [==============================] - 1s 13ms/step - loss: 0.0036 - lr: 5.0119e-05\n",
            "Epoch 76/100\n",
            "77/77 [==============================] - 1s 12ms/step - loss: 0.0035 - lr: 5.6234e-05\n",
            "Epoch 77/100\n",
            "77/77 [==============================] - 1s 6ms/step - loss: 0.0035 - lr: 6.3096e-05\n",
            "Epoch 78/100\n",
            "77/77 [==============================] - 1s 6ms/step - loss: 0.0034 - lr: 7.0795e-05\n",
            "Epoch 79/100\n",
            "77/77 [==============================] - 1s 6ms/step - loss: 0.0034 - lr: 7.9433e-05\n",
            "Epoch 80/100\n",
            "77/77 [==============================] - 1s 6ms/step - loss: 0.0033 - lr: 8.9125e-05\n",
            "Epoch 81/100\n",
            "77/77 [==============================] - 1s 6ms/step - loss: 0.0033 - lr: 1.0000e-04\n",
            "Epoch 82/100\n",
            "77/77 [==============================] - 1s 6ms/step - loss: 0.0033 - lr: 1.1220e-04\n",
            "Epoch 83/100\n",
            "77/77 [==============================] - 1s 6ms/step - loss: 0.0032 - lr: 1.2589e-04\n",
            "Epoch 84/100\n",
            "77/77 [==============================] - 1s 6ms/step - loss: 0.0032 - lr: 1.4125e-04\n",
            "Epoch 85/100\n",
            "77/77 [==============================] - 1s 6ms/step - loss: 0.0032 - lr: 1.5849e-04\n",
            "Epoch 86/100\n",
            "77/77 [==============================] - 1s 12ms/step - loss: 0.0031 - lr: 1.7783e-04\n",
            "Epoch 87/100\n",
            "77/77 [==============================] - 1s 13ms/step - loss: 0.0031 - lr: 1.9953e-04\n",
            "Epoch 88/100\n",
            "77/77 [==============================] - 1s 6ms/step - loss: 0.0031 - lr: 2.2387e-04\n",
            "Epoch 89/100\n",
            "77/77 [==============================] - 1s 6ms/step - loss: 0.0030 - lr: 2.5119e-04\n",
            "Epoch 90/100\n",
            "77/77 [==============================] - 1s 6ms/step - loss: 0.0030 - lr: 2.8184e-04\n",
            "Epoch 91/100\n",
            "77/77 [==============================] - 1s 6ms/step - loss: 0.0029 - lr: 3.1623e-04\n",
            "Epoch 92/100\n",
            "77/77 [==============================] - 1s 6ms/step - loss: 0.0029 - lr: 3.5481e-04\n",
            "Epoch 93/100\n",
            "77/77 [==============================] - 1s 6ms/step - loss: 0.0028 - lr: 3.9811e-04\n",
            "Epoch 94/100\n",
            "77/77 [==============================] - 1s 6ms/step - loss: 0.0028 - lr: 4.4668e-04\n",
            "Epoch 95/100\n",
            "77/77 [==============================] - 1s 8ms/step - loss: 0.0027 - lr: 5.0119e-04\n",
            "Epoch 96/100\n",
            "77/77 [==============================] - 1s 12ms/step - loss: 0.0027 - lr: 5.6234e-04\n",
            "Epoch 97/100\n",
            "77/77 [==============================] - 1s 12ms/step - loss: 0.0026 - lr: 6.3096e-04\n",
            "Epoch 98/100\n",
            "77/77 [==============================] - 1s 12ms/step - loss: 0.0025 - lr: 7.0795e-04\n",
            "Epoch 99/100\n",
            "77/77 [==============================] - 1s 6ms/step - loss: 0.0025 - lr: 7.9433e-04\n",
            "Epoch 100/100\n",
            "77/77 [==============================] - 1s 6ms/step - loss: 0.0024 - lr: 8.9125e-04\n"
          ]
        }
      ]
    },
    {
      "cell_type": "code",
      "source": [
        "lrs = 1e-8 * (10 ** (np.arange(100) / 20))\n",
        "\n",
        "# Set the figure size\n",
        "plt.figure(figsize=(10, 6))\n",
        "\n",
        "# Set the grid\n",
        "plt.grid(True)\n",
        "\n",
        "# Plot the loss in log scale\n",
        "plt.semilogx(lrs, history.history[\"loss\"])\n",
        "\n",
        "# Increase the tickmarks size\n",
        "plt.tick_params('both', length=10, width=1, which='both')\n",
        "\n",
        "# Set the plot boundaries\n",
        "plt.axis([1e-8, 1e-3, 0, 300])"
      ],
      "metadata": {
        "colab": {
          "base_uri": "https://localhost:8080/",
          "height": 559
        },
        "id": "9mzjfgmCLvuz",
        "outputId": "4a668362-070a-4a9c-9dc3-f70cccc908f7"
      },
      "execution_count": 26,
      "outputs": [
        {
          "output_type": "execute_result",
          "data": {
            "text/plain": [
              "(1e-08, 0.001, 0.0, 300.0)"
            ]
          },
          "metadata": {},
          "execution_count": 26
        },
        {
          "output_type": "display_data",
          "data": {
            "text/plain": [
              "<Figure size 1000x600 with 1 Axes>"
            ],
            "image/png": "[encoded data removed]"
          },
          "metadata": {}
        }
      ]
    },
    {
      "cell_type": "code",
      "source": [
        "model_tune = tf.keras.models.Sequential([\n",
        "  tf.keras.layers.Dense(10, activation=\"relu\", input_shape=[G.WINDOW_SIZE]),\n",
        "  tf.keras.layers.Dense(10, activation=\"relu\"),\n",
        "  tf.keras.layers.Dense(1)\n",
        "])\n"
      ],
      "metadata": {
        "id": "0926tfwpL3f8"
      },
      "execution_count": 27,
      "outputs": []
    },
    {
      "cell_type": "code",
      "source": [
        "optimizer = tf.keras.optimizers.SGD(learning_rate=1e-4, momentum=0.9)\n"
      ],
      "metadata": {
        "id": "VKgBMvmqL7G9"
      },
      "execution_count": 28,
      "outputs": []
    },
    {
      "cell_type": "code",
      "source": [
        "model_tune.compile(loss=\"mse\", optimizer=optimizer)\n",
        "\n",
        "# Train the model\n",
        "history = model_tune.fit(dataset, epochs=100)\n"
      ],
      "metadata": {
        "colab": {
          "base_uri": "https://localhost:8080/"
        },
        "id": "FMHcIqh7MAK5",
        "outputId": "59564589-9cf2-4916-ec61-406bc9602c5b"
      },
      "execution_count": 29,
      "outputs": [
        {
          "output_type": "stream",
          "name": "stdout",
          "text": [
            "Epoch 1/100\n",
            "77/77 [==============================] - 2s 13ms/step - loss: 0.0025\n",
            "Epoch 2/100\n",
            "77/77 [==============================] - 1s 12ms/step - loss: 0.0025\n",
            "Epoch 3/100\n",
            "77/77 [==============================] - 1s 11ms/step - loss: 0.0025\n",
            "Epoch 4/100\n",
            "77/77 [==============================] - 1s 6ms/step - loss: 0.0024\n",
            "Epoch 5/100\n",
            "77/77 [==============================] - 1s 6ms/step - loss: 0.0024\n",
            "Epoch 6/100\n",
            "77/77 [==============================] - 1s 6ms/step - loss: 0.0024\n",
            "Epoch 7/100\n",
            "77/77 [==============================] - 1s 13ms/step - loss: 0.0024\n",
            "Epoch 8/100\n",
            "77/77 [==============================] - 1s 6ms/step - loss: 0.0024\n",
            "Epoch 9/100\n",
            "77/77 [==============================] - 1s 6ms/step - loss: 0.0024\n",
            "Epoch 10/100\n",
            "77/77 [==============================] - 1s 6ms/step - loss: 0.0024\n",
            "Epoch 11/100\n",
            "77/77 [==============================] - 1s 6ms/step - loss: 0.0024\n",
            "Epoch 12/100\n",
            "77/77 [==============================] - 1s 6ms/step - loss: 0.0024\n",
            "Epoch 13/100\n",
            "77/77 [==============================] - 1s 6ms/step - loss: 0.0024\n",
            "Epoch 14/100\n",
            "77/77 [==============================] - 1s 6ms/step - loss: 0.0024\n",
            "Epoch 15/100\n",
            "77/77 [==============================] - 1s 6ms/step - loss: 0.0024\n",
            "Epoch 16/100\n",
            "77/77 [==============================] - 1s 6ms/step - loss: 0.0023\n",
            "Epoch 17/100\n",
            "77/77 [==============================] - 1s 6ms/step - loss: 0.0023\n",
            "Epoch 18/100\n",
            "77/77 [==============================] - 1s 11ms/step - loss: 0.0023\n",
            "Epoch 19/100\n",
            "77/77 [==============================] - 1s 13ms/step - loss: 0.0023\n",
            "Epoch 20/100\n",
            "77/77 [==============================] - 1s 7ms/step - loss: 0.0023\n",
            "Epoch 21/100\n",
            "77/77 [==============================] - 1s 6ms/step - loss: 0.0023\n",
            "Epoch 22/100\n",
            "77/77 [==============================] - 1s 6ms/step - loss: 0.0023\n",
            "Epoch 23/100\n",
            "77/77 [==============================] - 1s 6ms/step - loss: 0.0023\n",
            "Epoch 24/100\n",
            "77/77 [==============================] - 1s 6ms/step - loss: 0.0023\n",
            "Epoch 25/100\n",
            "77/77 [==============================] - 1s 6ms/step - loss: 0.0023\n",
            "Epoch 26/100\n",
            "77/77 [==============================] - 1s 6ms/step - loss: 0.0023\n",
            "Epoch 27/100\n",
            "77/77 [==============================] - 1s 6ms/step - loss: 0.0023\n",
            "Epoch 28/100\n",
            "77/77 [==============================] - 1s 6ms/step - loss: 0.0023\n",
            "Epoch 29/100\n",
            "77/77 [==============================] - 1s 13ms/step - loss: 0.0023\n",
            "Epoch 30/100\n",
            "77/77 [==============================] - 1s 12ms/step - loss: 0.0023\n",
            "Epoch 31/100\n",
            "77/77 [==============================] - 1s 13ms/step - loss: 0.0023\n",
            "Epoch 32/100\n",
            "77/77 [==============================] - 1s 6ms/step - loss: 0.0023\n",
            "Epoch 33/100\n",
            "77/77 [==============================] - 1s 5ms/step - loss: 0.0023\n",
            "Epoch 34/100\n",
            "77/77 [==============================] - 1s 6ms/step - loss: 0.0023\n",
            "Epoch 35/100\n",
            "77/77 [==============================] - 1s 6ms/step - loss: 0.0023\n",
            "Epoch 36/100\n",
            "77/77 [==============================] - 1s 5ms/step - loss: 0.0023\n",
            "Epoch 37/100\n",
            "77/77 [==============================] - 1s 6ms/step - loss: 0.0023\n",
            "Epoch 38/100\n",
            "77/77 [==============================] - 1s 6ms/step - loss: 0.0023\n",
            "Epoch 39/100\n",
            "77/77 [==============================] - 2s 19ms/step - loss: 0.0023\n",
            "Epoch 40/100\n",
            "77/77 [==============================] - 2s 12ms/step - loss: 0.0023\n",
            "Epoch 41/100\n",
            "77/77 [==============================] - 1s 6ms/step - loss: 0.0023\n",
            "Epoch 42/100\n",
            "77/77 [==============================] - 1s 6ms/step - loss: 0.0022\n",
            "Epoch 43/100\n",
            "77/77 [==============================] - 1s 6ms/step - loss: 0.0022\n",
            "Epoch 44/100\n",
            "77/77 [==============================] - 1s 6ms/step - loss: 0.0022\n",
            "Epoch 45/100\n",
            "77/77 [==============================] - 1s 6ms/step - loss: 0.0022\n",
            "Epoch 46/100\n",
            "77/77 [==============================] - 1s 6ms/step - loss: 0.0022\n",
            "Epoch 47/100\n",
            "77/77 [==============================] - 1s 6ms/step - loss: 0.0022\n",
            "Epoch 48/100\n",
            "77/77 [==============================] - 1s 5ms/step - loss: 0.0022\n",
            "Epoch 49/100\n",
            "77/77 [==============================] - 1s 6ms/step - loss: 0.0022\n",
            "Epoch 50/100\n",
            "77/77 [==============================] - 1s 7ms/step - loss: 0.0022\n",
            "Epoch 51/100\n",
            "77/77 [==============================] - 1s 12ms/step - loss: 0.0022\n",
            "Epoch 52/100\n",
            "77/77 [==============================] - 1s 13ms/step - loss: 0.0022\n",
            "Epoch 53/100\n",
            "77/77 [==============================] - 1s 6ms/step - loss: 0.0022\n",
            "Epoch 54/100\n",
            "77/77 [==============================] - 1s 6ms/step - loss: 0.0022\n",
            "Epoch 55/100\n",
            "77/77 [==============================] - 1s 5ms/step - loss: 0.0022\n",
            "Epoch 56/100\n",
            "77/77 [==============================] - 1s 7ms/step - loss: 0.0022\n",
            "Epoch 57/100\n",
            "77/77 [==============================] - 1s 6ms/step - loss: 0.0022\n",
            "Epoch 58/100\n",
            "77/77 [==============================] - 1s 6ms/step - loss: 0.0022\n",
            "Epoch 59/100\n",
            "77/77 [==============================] - 1s 6ms/step - loss: 0.0022\n",
            "Epoch 60/100\n",
            "77/77 [==============================] - 1s 5ms/step - loss: 0.0022\n",
            "Epoch 61/100\n",
            "77/77 [==============================] - 1s 5ms/step - loss: 0.0022\n",
            "Epoch 62/100\n",
            "77/77 [==============================] - 1s 12ms/step - loss: 0.0022\n",
            "Epoch 63/100\n",
            "77/77 [==============================] - 1s 12ms/step - loss: 0.0022\n",
            "Epoch 64/100\n",
            "77/77 [==============================] - 1s 6ms/step - loss: 0.0022\n",
            "Epoch 65/100\n",
            "77/77 [==============================] - 1s 6ms/step - loss: 0.0022\n",
            "Epoch 66/100\n",
            "77/77 [==============================] - 1s 6ms/step - loss: 0.0022\n",
            "Epoch 67/100\n",
            "77/77 [==============================] - 1s 5ms/step - loss: 0.0022\n",
            "Epoch 68/100\n",
            "77/77 [==============================] - 1s 6ms/step - loss: 0.0022\n",
            "Epoch 69/100\n",
            "77/77 [==============================] - 1s 7ms/step - loss: 0.0022\n",
            "Epoch 70/100\n",
            "77/77 [==============================] - 1s 6ms/step - loss: 0.0022\n",
            "Epoch 71/100\n",
            "77/77 [==============================] - 1s 6ms/step - loss: 0.0022\n",
            "Epoch 72/100\n",
            "77/77 [==============================] - 1s 11ms/step - loss: 0.0022\n",
            "Epoch 73/100\n",
            "77/77 [==============================] - 1s 12ms/step - loss: 0.0022\n",
            "Epoch 74/100\n",
            "77/77 [==============================] - 1s 12ms/step - loss: 0.0022\n",
            "Epoch 75/100\n",
            "77/77 [==============================] - 1s 5ms/step - loss: 0.0022\n",
            "Epoch 76/100\n",
            "77/77 [==============================] - 1s 6ms/step - loss: 0.0022\n",
            "Epoch 77/100\n",
            "77/77 [==============================] - 1s 7ms/step - loss: 0.0022\n",
            "Epoch 78/100\n",
            "77/77 [==============================] - 1s 5ms/step - loss: 0.0022\n",
            "Epoch 79/100\n",
            "77/77 [==============================] - 1s 6ms/step - loss: 0.0022\n",
            "Epoch 80/100\n",
            "77/77 [==============================] - 1s 6ms/step - loss: 0.0022\n",
            "Epoch 81/100\n",
            "77/77 [==============================] - 1s 5ms/step - loss: 0.0022\n",
            "Epoch 82/100\n",
            "77/77 [==============================] - 1s 6ms/step - loss: 0.0022\n",
            "Epoch 83/100\n",
            "77/77 [==============================] - 1s 6ms/step - loss: 0.0022\n",
            "Epoch 84/100\n",
            "77/77 [==============================] - 1s 11ms/step - loss: 0.0022\n",
            "Epoch 85/100\n",
            "77/77 [==============================] - 1s 13ms/step - loss: 0.0022\n",
            "Epoch 86/100\n",
            "77/77 [==============================] - 1s 14ms/step - loss: 0.0022\n",
            "Epoch 87/100\n",
            "77/77 [==============================] - 1s 6ms/step - loss: 0.0022\n",
            "Epoch 88/100\n",
            "77/77 [==============================] - 1s 6ms/step - loss: 0.0022\n",
            "Epoch 89/100\n",
            "77/77 [==============================] - 1s 6ms/step - loss: 0.0021\n",
            "Epoch 90/100\n",
            "77/77 [==============================] - 1s 7ms/step - loss: 0.0021\n",
            "Epoch 91/100\n",
            "77/77 [==============================] - 1s 7ms/step - loss: 0.0021\n",
            "Epoch 92/100\n",
            "77/77 [==============================] - 1s 6ms/step - loss: 0.0021\n",
            "Epoch 93/100\n",
            "77/77 [==============================] - 1s 6ms/step - loss: 0.0021\n",
            "Epoch 94/100\n",
            "77/77 [==============================] - 1s 6ms/step - loss: 0.0021\n",
            "Epoch 95/100\n",
            "77/77 [==============================] - 1s 6ms/step - loss: 0.0021\n",
            "Epoch 96/100\n",
            "77/77 [==============================] - 1s 12ms/step - loss: 0.0021\n",
            "Epoch 97/100\n",
            "77/77 [==============================] - 1s 12ms/step - loss: 0.0021\n",
            "Epoch 98/100\n",
            "77/77 [==============================] - 1s 13ms/step - loss: 0.0021\n",
            "Epoch 99/100\n",
            "77/77 [==============================] - 1s 8ms/step - loss: 0.0021\n",
            "Epoch 100/100\n",
            "77/77 [==============================] - 1s 6ms/step - loss: 0.0021\n"
          ]
        }
      ]
    },
    {
      "cell_type": "code",
      "source": [
        "loss = history.history['loss']\n",
        "epochs = range(len(loss))\n",
        "plt.plot(epochs, loss, 'b', label='Training Loss')\n",
        "plt.show()"
      ],
      "metadata": {
        "colab": {
          "base_uri": "https://localhost:8080/",
          "height": 430
        },
        "id": "9LCBLJp6MfeG",
        "outputId": "4c0f1b26-02ef-4aae-f440-e7e5a1fb9712"
      },
      "execution_count": 30,
      "outputs": [
        {
          "output_type": "display_data",
          "data": {
            "text/plain": [
              "<Figure size 640x480 with 1 Axes>"
            ],
            "image/png": "[encoded data removed]"
          },
          "metadata": {}
        }
      ]
    },
    {
      "cell_type": "code",
      "source": [
        "loss = history.history['loss']\n",
        "epochs = range(10, len(loss))\n",
        "plot_loss = loss[10:]\n",
        "plt.plot(epochs, plot_loss, 'b', label='Training Loss')\n",
        "plt.show()"
      ],
      "metadata": {
        "colab": {
          "base_uri": "https://localhost:8080/",
          "height": 430
        },
        "id": "0qgDiB6LMjhP",
        "outputId": "6483eabe-45c2-4df6-e8fa-f3a025a2da06"
      },
      "execution_count": 31,
      "outputs": [
        {
          "output_type": "display_data",
          "data": {
            "text/plain": [
              "<Figure size 640x480 with 1 Axes>"
            ],
            "image/png": "[encoded data removed]"
          },
          "metadata": {}
        }
      ]
    },
    {
      "cell_type": "code",
      "source": [
        "rnn_forecast = model_forecast(model_tune, G.SERIES, G.WINDOW_SIZE).squeeze()\n"
      ],
      "metadata": {
        "colab": {
          "base_uri": "https://localhost:8080/"
        },
        "id": "ciEXdyO7Ne-t",
        "outputId": "7bc526a1-a310-4d09-d2ca-d6bb1b31f77f"
      },
      "execution_count": 32,
      "outputs": [
        {
          "output_type": "stream",
          "name": "stdout",
          "text": [
            "2302/2302 [==============================] - 19s 8ms/step\n"
          ]
        }
      ]
    },
    {
      "cell_type": "code",
      "source": [
        "rnn_forecast = rnn_forecast[G.SPLIT_TIME - G.WINDOW_SIZE:-1]\n"
      ],
      "metadata": {
        "id": "pyxkCTqFNige"
      },
      "execution_count": 33,
      "outputs": []
    },
    {
      "cell_type": "code",
      "source": [
        "mse, mae = compute_metrics(series_valid, rnn_forecast)\n",
        "\n",
        "print(f\"mse: {mse:.2f}, mae: {mae:.2f} for forecast\")\n"
      ],
      "metadata": {
        "colab": {
          "base_uri": "https://localhost:8080/"
        },
        "id": "x-hudLSQORQM",
        "outputId": "5bb14892-7ee0-48c1-ad6b-440e9d1e4125"
      },
      "execution_count": 34,
      "outputs": [
        {
          "output_type": "stream",
          "name": "stdout",
          "text": [
            "mse: 0.02, mae: 0.11 for forecast\n"
          ]
        }
      ]
    },
    {
      "cell_type": "code",
      "source": [],
      "metadata": {
        "id": "yRevpXoxOfmq"
      },
      "execution_count": 34,
      "outputs": []
    }
  ]
}